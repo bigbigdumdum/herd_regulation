{
 "cells": [
  {
   "cell_type": "markdown",
   "metadata": {},
   "source": [
    "# Introduction\n",
    "\n",
    "Here we first look how AB and ABi formation changes with time across different Bi0. Then we look at how the time taken to reach 90% of maximum possible AB changes with Bi0"
   ]
  },
  {
   "cell_type": "code",
   "execution_count": 6,
   "metadata": {},
   "outputs": [],
   "source": [
    "# import random\n",
    "import json\n",
    "import os\n",
    "\n",
    "param_json_dir = './param_jsons/'\n",
    "out_put_dir = './output_jsons/'"
   ]
  },
  {
   "cell_type": "code",
   "execution_count": 7,
   "metadata": {},
   "outputs": [],
   "source": [
    "def save_json_params(Bi,file_name):\n",
    "    \n",
    "    # dissociation constant\n",
    "    Kd = 1e-6\n",
    "    Kdi = 1e-1\n",
    "    # splitting dissociation constant to rate constants\n",
    "    kf,kr = 1,Kd\n",
    "    kfi,kri = 1,Kdi\n",
    "    # starting states of reactants\n",
    "    reactant_state = {'A':500,'B':500,'AB':0,'Bi':Bi,'ABi':0} # starting states\n",
    "    # reactants list\n",
    "    reactants_list = [['A','B'],['AB'],['A','Bi'],['ABi']] ## for 2A it must be ['A','A']\n",
    "    # crrosponding product list\n",
    "    product_list = [['AB'],['A','B'],['ABi'],['A','Bi']]\n",
    "    # crrosponding rate constant list\n",
    "    rate_constant_list = [kf,kr,kfi,kri]\n",
    "\n",
    "    # save parameter file\n",
    "    with open(file_name,'w') as inf:\n",
    "        json.dump((rate_constant_list,reactants_list,product_list,reactant_state),inf)\n",
    "\n",
    "def plot_products(n_iter,xcrop,ycrop,file_name,out_dir):\n",
    "    # plotting a simulation and its replicates with matplotlib package\n",
    "    import matplotlib.pyplot as plt\n",
    "    # intiate figure\n",
    "    plt.figure(figsize=(4,2))\n",
    "    plt.xlim(-1*(xcrop/50),xcrop+1*(xcrop/50))\n",
    "    plt.ylim(-1*(ycrop/50),ycrop+1*(ycrop/50))\n",
    "\n",
    "    base_name = os.path.basename(file_name)\n",
    "    for i in range(n_iter-1):\n",
    "        # open and read a replicate fo the simulation\n",
    "        res_file = out_dir+'/'+base_name+'_rep_'+str(i)+'_out.json'\n",
    "        with open(res_file) as inf:            \n",
    "            time,reactants = json.load(inf)\n",
    "        # save trajectories of required chemical entities\n",
    "        AB = reactants['AB']\n",
    "        ABi = reactants['ABi']  \n",
    "        # plot\n",
    "        plt.plot(time,AB,c='Blue')\n",
    "        plt.plot(time,ABi,c='Red')  \n",
    "\n",
    "    res_file = out_dir+'/'+base_name+'_rep_'+str(n_iter-1)+'_out.json'\n",
    "    with open(res_file) as inf:            \n",
    "        time,reactants = json.load(inf)\n",
    "    AB = reactants['AB']\n",
    "    ABi = reactants['ABi']\n",
    "\n",
    "    # plotting the last one seperately for legends\n",
    "    plt.plot(time,AB,c='Blue',label='AB')\n",
    "    plt.plot(time,ABi,c='Red',label='ABi')  \n",
    "\n",
    "    # x and y label\n",
    "    plt.xlabel('Time(s)')\n",
    "    plt.ylabel('Number of molecules')\n",
    "    plt.legend(loc=1)\n",
    "    return plt\n"
   ]
  },
  {
   "cell_type": "markdown",
   "metadata": {},
   "source": [
    "## Bi = 1000"
   ]
  },
  {
   "cell_type": "code",
   "execution_count": 9,
   "metadata": {},
   "outputs": [],
   "source": [
    "iter_list = []\n",
    "Bi = 1000\n",
    "\n",
    "# writing paramter file\n",
    "file_name = param_json_dir+'/example_parameter.json'\n",
    "save_json_params(Bi,file_name)"
   ]
  },
  {
   "cell_type": "code",
   "execution_count": 10,
   "metadata": {},
   "outputs": [],
   "source": [
    "# Reading simulation trajectory from output json file\n",
    "# Rhe example simulation was simulated for 1000 seconds with maximum iteration of 1,000,000\n",
    "\n",
    "# output file names \n",
    "replicate1 = out_put_dir+'/example_parameter.json_rep_0_out.json'\n",
    "replicate2 = out_put_dir+'/example_parameter.json_rep_1_out.json'\n",
    "\n",
    "# reading replicate 1\n",
    "with open(replicate1) as inf:            \n",
    "    time1,reactants1 = json.load(inf)\n",
    "\n",
    "# reading replicate 2\n",
    "with open(replicate2) as inf:            \n",
    "    time2,reactants2 = json.load(inf)\n",
    "\n",
    "# Here time is a list of time points corresponding to each reaction\n",
    "# reactant is a dictionary where the key in the name of the chemical entity (example 'AB') and value is a list that shows the value of the chemical entity at each time point."
   ]
  },
  {
   "cell_type": "code",
   "execution_count": 11,
   "metadata": {},
   "outputs": [
    {
     "data": {
      "text/plain": [
       "Text(0.5, 1.0, 'Products vs time (Bi0 = 1000)')"
      ]
     },
     "execution_count": 11,
     "metadata": {},
     "output_type": "execute_result"
    },
    {
     "data": {
      "image/png": "[encoded data removed]",
      "text/plain": [
       "<Figure size 288x144 with 1 Axes>"
      ]
     },
     "metadata": {
      "needs_background": "light"
     },
     "output_type": "display_data"
    }
   ],
   "source": [
    "# example of plotting\n",
    "\n",
    "# crop values for x and y axis\n",
    "xcrop = 100\n",
    "ycrop = 1000\n",
    "\n",
    "# plotting the files filenames and directory are formated automatically based on input file name\n",
    "plt = plot_products(2,xcrop,ycrop,file_name,out_put_dir)\n",
    "# adding title to plot\n",
    "title = 'Products vs time'\n",
    "plt.title(title+' (Bi0 = '+str(Bi)+')')"
   ]
  },
  {
   "cell_type": "code",
   "execution_count": null,
   "metadata": {},
   "outputs": [],
   "source": []
  }
 ],
 "metadata": {
  "kernelspec": {
   "display_name": "MK_default_env",
   "language": "python",
   "name": "python3"
  },
  "language_info": {
   "codemirror_mode": {
    "name": "ipython",
    "version": 3
   },
   "file_extension": ".py",
   "mimetype": "text/x-python",
   "name": "python",
   "nbconvert_exporter": "python",
   "pygments_lexer": "ipython3",
   "version": "3.9.12"
  },
  "vscode": {
   "interpreter": {
    "hash": "b1eccfc1ba364d111ae15767186742a5343f0437137c2ad126770b982f7d7e19"
   }
  }
 },
 "nbformat": 4,
 "nbformat_minor": 4
}
