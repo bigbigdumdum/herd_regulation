{
 "cells": [
  {
   "attachments": {},
   "cell_type": "markdown",
   "metadata": {},
   "source": [
    "# Introduction\n",
    "\n",
    "## Kinteics equations\n",
    "\n",
    "The set of equations given below calculates deterministicaly the Kinteics of the formation of complexes with two homolouges.\n",
    "\n",
    "$$\\frac{d[AB]}{dt} = k_1[A][B]-k_{-1}[AB]$$\n",
    "\n",
    "$$\\frac{d[AB_i]}{dt} = k_2[A][B_i]-k_{-2}[AB_i]$$\n",
    "\n",
    "$$\\frac{d[A_iB]}{dt} = k_3[A_i][B]-k_{-3}[A_iB]$$\n",
    "\n",
    "$$\\frac{d[A_iB_i]}{dt} = k_4[A_i][B_i]-k_{-4}[A_iB_i]$$\n",
    "\n",
    "Where $[A]$, $[B]$, $[A_i]$ and $[B_i]$ are instantanious concentrations of the respective reactants and can be caculated using the following relations with  $[A_0]$, $[B_0]$, $[A_{i0}]$ and $[B_{i0}]$ being the starting concentration of the respective reactants.\n",
    "\n",
    "$$[A]= [A_0]-([AB]-[AB_{0}]+[AB_i]-[AB_{i0}])$$\n",
    "\n",
    "$$[B]= [B_0]-([A_iB]-[A_iB_{0}]+[AB]-[AB_{0}])$$\n",
    "\n",
    "$$[A_i]= [A_{i0}]-([A_iB]-[A_iB_{0}]+[A_iB_i]-[A_iB_{i0}])$$\n",
    "\n",
    "$$[B_i]= [B_{i0}]-([AB_i]-[AB_{i0}]+[A_iB_i]-[A_iB_{i0}])$$\n",
    "\n",
    "These equations can be solved numericaly to obtain concentrations of every component at different time points."
   ]
  },
  {
   "cell_type": "code",
   "execution_count": 1,
   "metadata": {},
   "outputs": [],
   "source": [
    "# use this cell for numba jit ODE solver\n",
    "\n",
    "import numpy as np\n",
    "from numba import jit\n",
    "\n",
    "# @jit \n",
    "# def detect_0(x,name):\n",
    "#     if x == 0:\n",
    "#         print('Value is 0 for '+name)\n",
    "            \n",
    "\n",
    "@jit \n",
    "def rate(A_now,B_now,AB,kf,kr): # rate calculator\n",
    "    return ((kf*(A_now*B_now))-(kr*(AB)))\n",
    "\n",
    "@jit \n",
    "def find_new_AB_RK4(A_now,B_now,AB,kf,kr,dt):\n",
    "    # rk4 intergrator for a complex works for all complexes\n",
    "    k1 = rate(A_now,B_now,AB,kf,kr)\n",
    "    k2 = rate(A_now,B_now,AB+(dt*(k1/2)),kf,kr)\n",
    "    k3 = rate(A_now,B_now,AB+(dt*(k2/2)),kf,kr)      \n",
    "    k4 = rate(A_now,B_now,AB+(dt*(k3/2)),kf,kr)\n",
    "    return (AB+(dt/6)*(k1+(2*k2)+(2*k3)+k4))\n",
    "\n",
    "@jit \n",
    "def find_new_AB_euler(A_now,B_now,AB,kf,kr,dt):\n",
    "    return AB+(dt*rate(A_now,B_now,AB,kf,kr))\n",
    "\n",
    "@jit\n",
    "def Calc_AB_and_more_for_2homols(B0,A0,Bi0,Ai0,AB0,ABi0,AiB0,AiBi0,k1,k_1,k2,k_2,k3,k_3,k4,k_4,max_time,dt):\n",
    "    # rk4 intergration \n",
    "    time_array = np.arange(0,max_time,dt)\n",
    "    N = len(time_array)\n",
    "    \n",
    "    # B,A,Bi,Ai,AB,ABi,AiB,AiBi,rateAB,rateABi,rateAiB,rateAiBi = [B0],[A0],[Bi0],[Ai0],[AB0],[ABi0],[AiB0],[AiBi0],[],[],[],[]\n",
    "    B,A,Bi,Ai = np.full(N, B0,dtype=np.double),np.full(N, A0 ,dtype=np.double),np.full(N, Bi0 ,dtype=np.double),np.full(N, Ai0 ,dtype=np.double)\n",
    "    AB,ABi,AiB,AiBi = np.full(N, AB0,dtype=np.double),np.full(N, ABi0 ,dtype=np.double),np.full(N, AiB0 ,dtype=np.double),np.full(N, AiBi0 ,dtype=np.double)\n",
    "    rateAB,rateABi,rateAiB,rateAiBi = np.zeros(N ,dtype=np.double),np.zeros(N ,dtype=np.double),np.zeros(N ,dtype=np.double),np.zeros(N ,dtype=np.double)\n",
    "    \n",
    "    # for each indice except last\n",
    "    for i in range(1,N):  \n",
    "\n",
    "        # Caclualting new complex vaules \n",
    "        AB[i] = find_new_AB_RK4(A[i-1],B[i-1],AB[i-1],k1,k_1,dt)\n",
    "        ABi[i] = find_new_AB_RK4(A[i-1],Bi[i-1],ABi[i-1],k2,k_2,dt)\n",
    "        AiB[i] = find_new_AB_RK4(Ai[i-1],B[i-1],AiB[i-1],k3,k_3,dt)\n",
    "        AiBi[i] = find_new_AB_RK4(Ai[i-1],Bi[i-1],AiBi[i-1],k4,k_4,dt)\n",
    "        \n",
    "        A[i] = A0-AB[i]-ABi[i]\n",
    "        B[i] = B0-AB[i]-AiB[i]\n",
    "        Bi[i] = Bi0-ABi[i]-AiBi[i]\n",
    "        Ai[i] = Ai0-AiB[i]-AiBi[i] \n",
    "        \n",
    "        # Checking 0 values\n",
    "        # detect_0(AB[i],'AB')\n",
    "        # detect_0(ABi[i],'ABi')\n",
    "        # # detect_0(AiB[i],'AiB')\n",
    "        # # detect_0(AiBi[i],'AiBi')\n",
    "        # detect_0(A[i],'A')\n",
    "        # detect_0(B[i],'B')\n",
    "        # detect_0(Bi[i],'Bi')\n",
    "        # detect_0(Ai[i],'Ai')          \n",
    "        \n",
    "        # updating rate. this is just for log\n",
    "        rateAB[i] = rate(A[i-1],B[i-1],AB[i-1],k1,k_1)\n",
    "        rateABi[i] = rate(A[i-1],Bi[i-1],ABi[i-1],k2,k_2)\n",
    "        rateAiB[i] = rate(Ai[i-1],B[i-1],AiB[i-1],k3,k_3)\n",
    "        rateAiBi[i] = rate(Ai[i-1],Bi[i-1],AiBi[i-1],k4,k_4)\n",
    "        \n",
    "        # detect_0(rateAB[i],'rateAB')\n",
    "        # detect_0(rateAB[i],'rateAB')\n",
    "        \n",
    "    return B,A,Bi,Ai,AB,ABi,AiB,AiBi,rateAB,rateABi,rateAiB,rateAiBi,time_array"
   ]
  },
  {
   "attachments": {},
   "cell_type": "markdown",
   "metadata": {},
   "source": [
    "## Example simulation"
   ]
  },
  {
   "cell_type": "code",
   "execution_count": 2,
   "metadata": {},
   "outputs": [],
   "source": [
    "# Common stuff\n",
    "# starting concentrations\n",
    "B0 = 1\n",
    "A0 = 1\n",
    "Bi0 = 2\n",
    "Ai0 = 0\n",
    "AB0 = 0\n",
    "ABi0 = 0\n",
    "AiB0 = 0\n",
    "AiBi0 = 0\n",
    "# rate constants \n",
    "k1,k_1 =  1,1e-6\n",
    "k2,k_2 =  1,1e-1\n",
    "k3,k_3 =  0,0\n",
    "k4,k_4 =  0,0\n",
    "\n",
    "# time limit\n",
    "max_time = 100\n",
    "\n",
    "# time step \n",
    "dt = 0.001\n",
    "\n",
    "# solve\n",
    "B,A,Bi,Ai,AB,ABi,AiB,AiBi,rateAB,rateABi,rateAiB,rateAiBi,time_array=Calc_AB_and_more_for_2homols(B0,A0,Bi0,Ai0,AB0,ABi0,AiB0,AiBi0,k1,k_1,k2,k_2,k3,k_3,k4,k_4,max_time,dt)"
   ]
  },
  {
   "cell_type": "code",
   "execution_count": 3,
   "metadata": {},
   "outputs": [
    {
     "data": {
      "text/plain": [
       "Text(0, 0.5, 'Concentration(M)')"
      ]
     },
     "execution_count": 3,
     "metadata": {},
     "output_type": "execute_result"
    },
    {
     "data": {
      "image/png": "[encoded data removed]",
      "text/plain": [
       "<Figure size 288x144 with 1 Axes>"
      ]
     },
     "metadata": {
      "needs_background": "light"
     },
     "output_type": "display_data"
    }
   ],
   "source": [
    "# plotting with matplotlib\n",
    "\n",
    "import matplotlib.pyplot as plt\n",
    "\n",
    "# intitate figure\n",
    "plt.figure(figsize=(4,2))\n",
    "\n",
    "# x and y axis limits\n",
    "xcrop = 100\n",
    "ycrop = 2\n",
    "plt.xlim(-1*(xcrop/50),xcrop+1*(xcrop/50))\n",
    "plt.ylim(-1*(ycrop/50),ycrop+1*(ycrop/50))\n",
    "\n",
    "# title\n",
    "title = 'Products vs time'\n",
    "plt.title(title+' (Bi0 = '+str(Bi0)+')')\n",
    "\n",
    "# plt.plot(time_array,A[:-1],label='A',c='blue')\n",
    "# plt.plot(time_array,B[:-1],label='B')\n",
    "# plt.plot(time_array,Bi[:-1],label='Bi')\n",
    "# plt.plot(time_array,Ai[:-1],label='Ai')\n",
    "\n",
    "# plotting products\n",
    "plt.plot(time_array,AB,label='AB',c='Blue')\n",
    "plt.plot(time_array,ABi,label='ABi',c='Red')\n",
    "# plt.plot(time_array,AiB[:-1],label='AiB')\n",
    "# plt.plot(time_array,AiBi[:-1],label='AiBi')\n",
    "\n",
    "# Adding legends\n",
    "plt.legend(loc=1)\n",
    "plt.xlabel('Time(s)')\n",
    "plt.ylabel('Concentration(M)')"
   ]
  }
 ],
 "metadata": {
  "kernelspec": {
   "display_name": "MK_default_env",
   "language": "python",
   "name": "python3"
  },
  "language_info": {
   "codemirror_mode": {
    "name": "ipython",
    "version": 3
   },
   "file_extension": ".py",
   "mimetype": "text/x-python",
   "name": "python",
   "nbconvert_exporter": "python",
   "pygments_lexer": "ipython3",
   "version": "3.9.12"
  },
  "orig_nbformat": 4,
  "vscode": {
   "interpreter": {
    "hash": "b1eccfc1ba364d111ae15767186742a5343f0437137c2ad126770b982f7d7e19"
   }
  }
 },
 "nbformat": 4,
 "nbformat_minor": 2
}
