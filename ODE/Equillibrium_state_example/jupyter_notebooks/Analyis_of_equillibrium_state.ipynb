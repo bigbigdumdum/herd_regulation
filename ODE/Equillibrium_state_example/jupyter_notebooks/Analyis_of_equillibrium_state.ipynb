{
 "cells": [
  {
   "cell_type": "markdown",
   "metadata": {},
   "source": [
    "# Introduction\n",
    "\n",
    "## Kinteics equations\n",
    "\n",
    "The set of equations given below calculates deterministicaly the Kinteics of the formation of complexes with two homolouges.\n",
    "\n",
    "$$\\frac{d[AB]}{dt} = k_1[A][B]-k_{-1}[AB]$$\n",
    "\n",
    "$$\\frac{d[AB_i]}{dt} = k_2[A][B_i]-k_{-2}[AB_i]$$\n",
    "\n",
    "$$\\frac{d[A_iB]}{dt} = k_3[A_i][B]-k_{-3}[A_iB]$$\n",
    "\n",
    "$$\\frac{d[A_iB_i]}{dt} = k_4[A_i][B_i]-k_{-4}[A_iB_i]$$\n",
    "\n",
    "Where $[A]$, $[B]$, $[A_i]$ and $[B_i]$ are instantanious concentrations of the respective reactants and can be caculated using the following relations with  $[A_0]$, $[B_0]$, $[A_{i0}]$ and $[B_{i0}]$ being the starting concentration of the respective reactants.\n",
    "\n",
    "$$[A]= [A_0]-([AB]-[AB_{0}]+[AB_i]-[AB_{i0}])$$\n",
    "\n",
    "$$[B]= [B_0]-([A_iB]-[A_iB_{0}]+[AB]-[AB_{0}])$$\n",
    "\n",
    "$$[A_i]= [A_{i0}]-([A_iB]-[A_iB_{0}]+[A_iB_i]-[A_iB_{i0}])$$\n",
    "\n",
    "$$[B_i]= [B_{i0}]-([AB_i]-[AB_{i0}]+[A_iB_i]-[A_iB_{i0}])$$\n",
    "\n",
    "These equations can be solved numericaly to obtain concentrations of every component at different time points.\n",
    "\n",
    "## At equillibrium\n",
    "\n",
    "The set of equations given below calculates the amount of complexes at equillibrium\n",
    "\n",
    "$$[AB] = \\frac{[A][B]}{Kd_{AB}}$$\n",
    "\n",
    "$$[AB_i] = \\frac{[A][B_i]}{Kd_{AB_i}}$$\n",
    "\n",
    "$$[A_iB] = \\frac{[A_i][B]}{Kd_{A_iB}}$$\n",
    "\n",
    "$$[A_iB_i] = \\frac{[A_i][B_i]}{Kd_{A_iB_i}}$$\n",
    "\n",
    "Where \n",
    "\n",
    "$$[A]= [A_0]-([AB]-[AB_{0}]+[AB_i]-[AB_{i0}])$$\n",
    "\n",
    "$$[B]= [B_0]-([A_iB]-[A_iB_{0}]+[AB]-[AB_{0}])$$\n",
    "\n",
    "$$[A_i]= [A_{i0}]-([A_iB]-[A_iB_{0}]+[A_iB_i]-[A_iB_{i0}])$$\n",
    "\n",
    "$$[B_i]= [B_{i0}]-([AB_i]-[AB_{i0}]+[A_iB_i]-[A_iB_{i0}])$$\n",
    "\n",
    "## Implementing in sympy\n"
   ]
  },
  {
   "cell_type": "code",
   "execution_count": 1,
   "metadata": {},
   "outputs": [],
   "source": [
    "# symbolic python import\n",
    "\n",
    "import sympy as sym\n",
    "from sympy import init_printing\n",
    "\n",
    "# def cal_complex_at_equillibrum(A0,B0,Ai0,Bi0,AB0,ABi0,AiB0,AiBi0,KdAB,KdABi,KdAiB,KdAiBi):\n",
    "\n",
    "#     # a,b,c,d = sym.symbols('a,b,c,d')\n",
    "#     AB,ABi,AiB,AiBi = sym.symbols('AB,ABi,AiB,AiBi')\n",
    "\n",
    "#     eqAB   = sym.Eq((A0-AB-ABi+AB0+ABi0)*(B0-AB-AiB+AB0+AiB0)/KdAB,AB)\n",
    "#     eqABi  = sym.Eq((A0-AB-ABi+AB0+ABi0)*(Bi0-ABi-AiBi+ABi0+AiBi0)/KdABi,ABi)\n",
    "#     eqAiB  = sym.Eq((Ai0-AiB-AiBi+AiB0+AiBi0)*(B0-AB-AiB+AB0+AiB0)/KdAiB,AiB)\n",
    "#     eqAiBi = sym.Eq((Ai0-AiB-AiBi+AiB0+AiBi0)*(Bi0-ABi-AiBi+ABi0+AiBi0)/KdAiBi,AiBi)\n",
    "\n",
    "#     # print(eqAB)\n",
    "#     # print(eqABi)\n",
    "#     # print(eqAiB)\n",
    "#     # print(eqAiBi) \n",
    "\n",
    "#     return sym.solve([eqAB,eqABi,eqAiB,eqAiBi],(AB,ABi,AiB,AiBi))\n",
    "\n",
    "def cal_complex_at_equillibrum(A0,B0,Ai0,Bi0,AB0,ABi0,AiB0,KdAB,KdABi,KdAiB):\n",
    "\n",
    "    # a,b,c,d = sym.symbols('a,b,c,d')\n",
    "    AB,ABi,AiB = sym.symbols('AB,ABi,AiB')\n",
    "\n",
    "    eqAB   = sym.Eq((A0-AB-ABi+AB0+ABi0)*(B0-AB-AiB+AB0+AiB0)/KdAB,AB)\n",
    "    eqABi  = sym.Eq((A0-AB-ABi+AB0+ABi0)*(Bi0-ABi+ABi0)/KdABi,ABi)\n",
    "    eqAiB  = sym.Eq((Ai0-AiB+AiB0)*(B0-AB-AiB+AB0+AiB0)/KdAiB,AiB)\n",
    "    # eqAiBi = sym.Eq((Ai0-AiB+AiB0)*(Bi0-ABi+ABi0)/KdAiBi,AiBi)\n",
    "\n",
    "    # print(eqAB)\n",
    "    # print(eqABi)\n",
    "    # print(eqAiB)\n",
    "    # print(eqAiBi) \n",
    "\n",
    "    return sym.solve([eqAB,eqABi,eqAiB],(AB,ABi,AiB),manual=True)\n",
    "\n",
    "def check_for_img(i,img_cutoff):\n",
    "    # check if a solution has a significant imiginary part based on a cutoff\n",
    "    for x in i: #if any of I greater than cutoff\n",
    "        if x > img_cutoff:\n",
    "            return True\n",
    "    return False\n",
    "\n",
    "def stoichiometry(X,complexes,stoichio_diff_cutoff): \n",
    "    # checks if stotiometry adds up using equillibrium and initial condition for 1 monomer\n",
    "    d = False\n",
    "    # print((X - sum(complexes)))\n",
    "    if (X - sum(complexes)) >= stoichio_diff_cutoff:        \n",
    "        d = True\n",
    "    return d\n",
    "\n",
    "def value_possible(r,init_concentrations,sto_co):\n",
    "    # checks stotiometry for all monomers\n",
    "    AB,ABi,AiB = r\n",
    "    A0,B0,Ai0,Bi0,AB0,ABi0,AiB0 = init_concentrations\n",
    "\n",
    "    # check stochiometry for A0 and B0 \n",
    "    if stoichiometry(A0,[AB,ABi,AB0,ABi0],sto_co) and stoichiometry(B0,[AB,AiB,AB0,AiB0],sto_co) and stoichiometry(Ai0,[AiB,AiB0],sto_co) and stoichiometry(Bi0,[ABi,ABi0],sto_co):\n",
    "        return True\n",
    "    return False\n",
    "\n",
    "def split_real_and_img(Sols):\n",
    "    # finction to split the solution into real and imaginary parts\n",
    "    real,img = [],[]\n",
    "    for sol in Sols:\n",
    "        temp_r,temp_img = [],[]\n",
    "        for val in sol:\n",
    "            temp_r.append(sym.re(val))\n",
    "            temp_img.append(sym.im(val))\n",
    "        real.append(temp_r)\n",
    "        img.append(temp_img)\n",
    "    return real,img\n",
    "\n",
    "def pick_correct_solution(Sols,init_concentrations,img_cutoff=1e-15,stoichio_diff_cutoff=0.001):\n",
    "    # picks solutions that satisfy both real and stoichiometry \n",
    "    real,img = split_real_and_img(Sols)\n",
    "    # for each solution check if imaginary part is a large value. This is reqired because there are residual imaginary components due to floating point errors\n",
    "    picked_solns = []\n",
    "    for k in range(len(real)):\n",
    "        r,i = real[k],img[k]\n",
    "        if value_possible(r,init_concentrations,stoichio_diff_cutoff) and not check_for_img(i,img_cutoff):\n",
    "            picked_solns.append(r)\n",
    "    if len(picked_solns) > 1:\n",
    "        print('Pick failed ',len(picked_solns),'solutions remaining!')\n",
    "    return picked_solns\n",
    "\n",
    "def pick_real_solution(Sols,init_concentrations,img_cutoff=1e-15):\n",
    "    # pick solutionthat satisfy real\n",
    "    real,img = split_real_and_img(Sols)\n",
    "    # for each solution check if imaginary part is a large value. This is reqired because there are residual imaginary components due to floating point errors\n",
    "    picked_solns = []\n",
    "    for k in range(len(real)):\n",
    "        r,i = real[k],img[k]\n",
    "        if not check_for_img(i,img_cutoff):\n",
    "            picked_solns.append(r)\n",
    "    # if len(picked_solns) > 1:\n",
    "    #     print('Pick failed ',len(picked_solns),'solutions remaining!')\n",
    "    return picked_solns\n"
   ]
  },
  {
   "cell_type": "markdown",
   "metadata": {},
   "source": [
    "# Analysis of dependence of ABeq on starting parameters"
   ]
  },
  {
   "cell_type": "code",
   "execution_count": 2,
   "metadata": {},
   "outputs": [],
   "source": [
    "def get_default():\n",
    "    A0,B0 = 1,1\n",
    "    Ai0,Bi0 = 1,1\n",
    "    AB0,ABi0,AiB0,AiBi0 = 0,0,0,0\n",
    "    KdAB  = 1e-6\n",
    "    KdABi = 1e-1\n",
    "    KdAiB = 1e-1\n",
    "    KdAiBi = float('inf')\n",
    "    return A0,B0,Ai0,Bi0,AB0,ABi0,AiB0,AiBi0,KdAB,KdABi,KdAiB,KdAiBi\n",
    "\n",
    "file_dump = '../file_dump/'\n",
    "image_dump = '../image_dump/'"
   ]
  },
  {
   "cell_type": "code",
   "execution_count": 3,
   "metadata": {},
   "outputs": [],
   "source": [
    "import pickle\n",
    "from tqdm import tqdm\n",
    "def calc_dependence(iter_range,assignment_function,pickle_file_name):\n",
    "    '''\n",
    "    Function that takes in an iter_range and a function that swapes the iterable for a parameter and calculates complexes at equillibrium\n",
    "    '''\n",
    "    iter_list = []\n",
    "    AB_list = []\n",
    "    ABi_list = []\n",
    "    AiB_list = []\n",
    "    AiBi_list = []\n",
    "\n",
    "    iter_list_real_soln = []\n",
    "    AB_list_real_soln = []\n",
    "    ABi_list_real_soln = []\n",
    "    AiB_list_real_soln = []\n",
    "    AiBi_list_real_soln = []\n",
    "\n",
    "    for iter in tqdm(iter_range):    \n",
    "        # print(iter)\n",
    "        # swap iter with parameter as per assignment function\n",
    "        A0,B0,Ai0,Bi0,AB0,ABi0,AiB0,AiBi0,KdAB,KdABi,KdAiB,KdAiBi = assignment_function(iter)\n",
    "        # print(A0)\n",
    "        # calculate complex at equillibrm by analytical method using sympy\n",
    "        Sols = cal_complex_at_equillibrum(A0,B0,Ai0,Bi0,AB0,ABi0,AiB0,KdAB,KdABi,KdAiB)\n",
    "        # print(Sols)\n",
    "        # pick all real solutions\n",
    "        init_concentrations = [A0,B0,Ai0,Bi0,AB0,ABi0,AiB0]\n",
    "        r_sols = pick_real_solution(Sols,init_concentrations,img_cutoff=1e-15)\n",
    "        for sol in r_sols:\n",
    "            AB,ABi,AiB = sol\n",
    "            iter_list_real_soln.append(iter)\n",
    "            AB_list_real_soln.append(AB)\n",
    "            ABi_list_real_soln.append(ABi)\n",
    "            AiB_list_real_soln.append(AiB)\n",
    "            # AiBi_list_real_soln.append(AiBi)\n",
    "        \n",
    "        # pick all real and possible solutions\n",
    "        # based on stotiometric difference. checks if final stotiometry is possible based on initial conditions\n",
    "        r_sols = pick_correct_solution(Sols,init_concentrations,img_cutoff=1e-15,stoichio_diff_cutoff=0)\n",
    "        for sol in r_sols:\n",
    "            AB,ABi,AiB = sol\n",
    "            iter_list.append(iter)\n",
    "            AB_list.append(AB)\n",
    "            ABi_list.append(ABi)\n",
    "            AiB_list.append(AiB)\n",
    "            # AiBi_list.append(AiBi) \n",
    "    \n",
    "    # Make list into dicts \n",
    "    picked = {'iter':iter_list,'AB':AB_list,'ABi':ABi_list,'AiB':AiB_list,'AiBi':AiBi_list}\n",
    "    rel_solns = {'iter':iter_list_real_soln,'AB':AB_list_real_soln,'ABi':ABi_list_real_soln,'AiB':AiB_list_real_soln,'AiBi':AiBi_list_real_soln}\n",
    "    # save dict as a pickle file\n",
    "    with open(pickle_file_name,'wb') as inf:\n",
    "        pickle.dump((rel_solns,picked),inf)\n",
    "\n",
    "def get_pickled_values(pickle_file_name):\n",
    "    # reads pickel and gives back the dicts\n",
    "    with open(pickle_file_name,'rb') as inf:\n",
    "        rel_solns,picked = pickle.load(inf)\n",
    "\n",
    "    return rel_solns,picked"
   ]
  },
  {
   "cell_type": "code",
   "execution_count": 4,
   "metadata": {},
   "outputs": [],
   "source": [
    "def unified_plot_format():\n",
    "    import matplotlib.pyplot as plt\n",
    "    # h = 5\n",
    "    # w =2.5      \n",
    "    plt.figure(figsize=(4,2))\n",
    "    return plt"
   ]
  },
  {
   "cell_type": "markdown",
   "metadata": {},
   "source": [
    "## ABeq vs A0"
   ]
  },
  {
   "cell_type": "code",
   "execution_count": 5,
   "metadata": {},
   "outputs": [],
   "source": [
    "# creating imputs for the functions\n",
    "def assignment_function_A0(iter):\n",
    "    # assigns A0 as iter\n",
    "    A0,B0,Ai0,Bi0,AB0,ABi0,AiB0,AiBi0,KdAB,KdABi,KdAiB,KdAiBi = get_default()\n",
    "    return iter,B0,Ai0,Bi0,AB0,ABi0,AiB0,AiBi0,KdAB,KdABi,KdAiB,KdAiBi\n",
    "\n",
    "iter_range_A0 = [x/10 for x in range(0,40)]\n",
    "pkl_file_A0 = file_dump+'ABeq_vs_A0_2_inh.pkl'"
   ]
  },
  {
   "cell_type": "code",
   "execution_count": 6,
   "metadata": {},
   "outputs": [],
   "source": [
    "# checking if pickle file exist if so the read results from there else compute and write file then read it\n",
    "try:\n",
    "    rel_solns,picked = get_pickled_values(pkl_file_A0)\n",
    "\n",
    "except:\n",
    "    calc_dependence(iter_range_A0,assignment_function_A0,pkl_file_A0)\n",
    "    rel_solns,picked = get_pickled_values(pkl_file_A0)"
   ]
  },
  {
   "cell_type": "code",
   "execution_count": null,
   "metadata": {},
   "outputs": [],
   "source": []
  },
  {
   "cell_type": "code",
   "execution_count": 8,
   "metadata": {},
   "outputs": [
    {
     "data": {
      "image/png": "[encoded data removed]",
      "text/plain": [
       "<Figure size 288x144 with 1 Axes>"
      ]
     },
     "metadata": {
      "needs_background": "light"
     },
     "output_type": "display_data"
    }
   ],
   "source": [
    "# plotting \n",
    "plt = unified_plot_format()\n",
    "\n",
    "title = 'Complex at equillibruim vs A0'\n",
    "plt.title(title)\n",
    "plt.xlabel('A0(M)')\n",
    "plt.ylabel('Complex(M)')\n",
    "# plt.xscale('log')\n",
    "plt.plot(picked['iter'],picked['AB'],label='AB',c='Blue')\n",
    "plt.plot(picked['iter'],picked['ABi'],label='ABi',c='Red')\n",
    "plt.legend(loc=5)\n",
    "plt.savefig(image_dump+'ABeq_vs_A0_2_inh.png',dpi =600,bbox_inches='tight') "
   ]
  },
  {
   "cell_type": "markdown",
   "metadata": {},
   "source": [
    "## ABeq vs B0"
   ]
  },
  {
   "cell_type": "code",
   "execution_count": 9,
   "metadata": {},
   "outputs": [],
   "source": [
    "# creating imputs for the functions\n",
    "def assignment_function_B0(iter):\n",
    "    # assigns B0 as iter\n",
    "    A0,B0,Ai0,Bi0,AB0,ABi0,AiB0,AiBi0,KdAB,KdABi,KdAiB,KdAiBi = get_default()\n",
    "    return A0,iter,Ai0,Bi0,AB0,ABi0,AiB0,AiBi0,KdAB,KdABi,KdAiB,KdAiBi\n",
    "\n",
    "iter_range_B0 = [x/10 for x in range(0,20)]\n",
    "pkl_file_B0 = file_dump+'ABeq_vs_B0_2_inh.pkl'"
   ]
  },
  {
   "cell_type": "code",
   "execution_count": 10,
   "metadata": {},
   "outputs": [],
   "source": [
    "# checking if pickle file exist if so the read results from there else compute and write file then read it\n",
    "try:\n",
    "    rel_solns,picked = get_pickled_values(pkl_file_B0)\n",
    "\n",
    "except:\n",
    "    calc_dependence(iter_range_B0,assignment_function_B0,pkl_file_B0)\n",
    "    rel_solns,picked = get_pickled_values(pkl_file_B0)"
   ]
  },
  {
   "cell_type": "code",
   "execution_count": 11,
   "metadata": {},
   "outputs": [
    {
     "data": {
      "image/png": "[encoded data removed]",
      "text/plain": [
       "<Figure size 288x144 with 1 Axes>"
      ]
     },
     "metadata": {
      "needs_background": "light"
     },
     "output_type": "display_data"
    }
   ],
   "source": [
    "# plotting \n",
    "plt = unified_plot_format()\n",
    "\n",
    "title = 'Complex at equillibruim vs B0'\n",
    "plt.title(title)\n",
    "plt.xlabel('B0(M)')\n",
    "plt.ylabel('Complex(M)')\n",
    "# plt.xscale('log')\n",
    "plt.plot(picked['iter'],picked['AB'],label='AB',c='Blue')\n",
    "plt.plot(picked['iter'],picked['ABi'],label='ABi',c='Red')\n",
    "plt.legend(loc=5)\n",
    "plt.savefig(image_dump+'ABeq_vs_B0_2_inh.png',dpi =600,bbox_inches='tight') "
   ]
  },
  {
   "cell_type": "markdown",
   "metadata": {},
   "source": [
    "## ABeq vs Bi0"
   ]
  },
  {
   "cell_type": "code",
   "execution_count": 7,
   "metadata": {},
   "outputs": [],
   "source": [
    "# creating imputs for the functions\n",
    "def assignment_function_Bi0(iter):\n",
    "    # assigns B0 as iter\n",
    "    A0,B0,Ai0,Bi0,AB0,ABi0,AiB0,AiBi0,KdAB,KdABi,KdAiB,KdAiBi = get_default()\n",
    "    return A0,B0,iter,iter,AB0,ABi0,AiB0,AiBi0,KdAB,KdABi,KdAiB,KdAiBi\n",
    "\n",
    "iter_range_Bi0 = [x/1 for x in range(0,50,)]\n",
    "pkl_file_Bi0 = file_dump+'ABeq_vs_Bi0_2_inh.pkl'"
   ]
  },
  {
   "cell_type": "code",
   "execution_count": 8,
   "metadata": {},
   "outputs": [],
   "source": [
    "# checking if pickle file exist if so the read results from there else compute and write file then read it\n",
    "try:\n",
    "    rel_solns,picked = get_pickled_values(pkl_file_Bi0)\n",
    "\n",
    "except:\n",
    "    calc_dependence(iter_range_Bi0,assignment_function_Bi0,pkl_file_Bi0)\n",
    "    rel_solns,picked = get_pickled_values(pkl_file_Bi0)"
   ]
  },
  {
   "cell_type": "code",
   "execution_count": 14,
   "metadata": {},
   "outputs": [
    {
     "data": {
      "image/png": "[encoded data removed]",
      "text/plain": [
       "<Figure size 288x144 with 1 Axes>"
      ]
     },
     "metadata": {
      "needs_background": "light"
     },
     "output_type": "display_data"
    }
   ],
   "source": [
    "# plotting \n",
    "plt = unified_plot_format()\n",
    "\n",
    "title = 'Complex at equillibruim vs $A_{i0}$ and $B_{i0}$'\n",
    "plt.title(title)\n",
    "plt.xlabel('$A_{i0}$ and $B_{i0}$(M)')\n",
    "plt.ylabel('Complex(M)')\n",
    "# plt.xscale('log')\n",
    "plt.plot(picked['iter'],picked['AB'],label='$AB$',c='Blue')\n",
    "plt.plot(picked['iter'],picked['ABi'],label='$AB_i$',c='Red')\n",
    "plt.legend(loc=6)\n",
    "plt.savefig(image_dump+'ABeq_vs_Bi0_2_inh.png',dpi =600,bbox_inches='tight') "
   ]
  },
  {
   "cell_type": "markdown",
   "metadata": {},
   "source": [
    "## ABeq vs Kd"
   ]
  },
  {
   "cell_type": "code",
   "execution_count": 15,
   "metadata": {},
   "outputs": [],
   "source": [
    "# creating imputs for the functions\n",
    "def assignment_function_Kd(iter):\n",
    "    # assigns B0 as iter\n",
    "    A0,B0,Ai0,Bi0,AB0,ABi0,AiB0,AiBi0,KdAB,KdABi,KdAiB,KdAiBi = get_default()\n",
    "    return A0,B0,Ai0,Bi0,AB0,ABi0,AiB0,AiBi0,iter,KdABi,KdAiB,KdAiBi\n",
    "\n",
    "iter_range_Kd = [10**(x/10) for x in range(-90,0,2)]\n",
    "pkl_file_Kd = file_dump+'ABeq_vs_Kd_2_inh.pkl'"
   ]
  },
  {
   "cell_type": "code",
   "execution_count": 16,
   "metadata": {},
   "outputs": [],
   "source": [
    "# checking if pickle file exist if so the read results from there else compute and write file then read it\n",
    "try:\n",
    "    rel_solns,picked = get_pickled_values(pkl_file_Kd)\n",
    "\n",
    "except:\n",
    "    calc_dependence(iter_range_Kd,assignment_function_Kd,pkl_file_Kd)\n",
    "    rel_solns,picked = get_pickled_values(pkl_file_Kd)"
   ]
  },
  {
   "cell_type": "code",
   "execution_count": 17,
   "metadata": {},
   "outputs": [
    {
     "data": {
      "image/png": "[encoded data removed]",
      "text/plain": [
       "<Figure size 288x144 with 1 Axes>"
      ]
     },
     "metadata": {
      "needs_background": "light"
     },
     "output_type": "display_data"
    }
   ],
   "source": [
    "# plotting \n",
    "plt = unified_plot_format()\n",
    "\n",
    "title = 'Complex at equillibruim vs Kd'\n",
    "plt.title(title)\n",
    "plt.xlabel('Kd(M)')\n",
    "plt.ylabel('Complex(M)')\n",
    "plt.xscale('log')\n",
    "plt.plot(picked['iter'],picked['AB'],label='AB',c='Blue')\n",
    "plt.plot(picked['iter'],picked['ABi'],label='ABi',c='Red')\n",
    "plt.legend(loc=1)\n",
    "plt.savefig(image_dump+'ABeq_vs_Kd_2_inh.png',dpi =600,bbox_inches='tight') "
   ]
  },
  {
   "cell_type": "markdown",
   "metadata": {},
   "source": [
    "## ABeq vs Kdi"
   ]
  },
  {
   "cell_type": "code",
   "execution_count": 18,
   "metadata": {},
   "outputs": [],
   "source": [
    "# creating imputs for the functions\n",
    "def assignment_function_Kdi(iter):\n",
    "    # assigns B0 as iter\n",
    "    A0,B0,Ai0,Bi0,AB0,ABi0,AiB0,AiBi0,KdAB,KdABi,KdAiB,KdAiBi = get_default()\n",
    "    return A0,B0,Ai0,Bi0,AB0,ABi0,AiB0,AiBi0,KdAB,iter,iter,KdAiBi\n",
    "\n",
    "iter_range_Kdi = [10**(x/10) for x in range(-90,0,2)]\n",
    "pkl_file_Kdi = file_dump+'ABeq_vs_Kdi_2_inh.pkl'"
   ]
  },
  {
   "cell_type": "code",
   "execution_count": 19,
   "metadata": {},
   "outputs": [],
   "source": [
    "# checking if pickle file exist if so the read results from there else compute and write file then read it\n",
    "try:\n",
    "    rel_solns,picked = get_pickled_values(pkl_file_Kdi)\n",
    "\n",
    "except:\n",
    "    calc_dependence(iter_range_Kdi,assignment_function_Kdi,pkl_file_Kdi)\n",
    "    rel_solns,picked = get_pickled_values(pkl_file_Kdi)"
   ]
  },
  {
   "cell_type": "code",
   "execution_count": 21,
   "metadata": {},
   "outputs": [
    {
     "data": {
      "image/png": "[encoded data removed]",
      "text/plain": [
       "<Figure size 288x144 with 1 Axes>"
      ]
     },
     "metadata": {
      "needs_background": "light"
     },
     "output_type": "display_data"
    }
   ],
   "source": [
    "# plotting \n",
    "plt = unified_plot_format()\n",
    "\n",
    "title = 'Complex at equillibruim vs $K_{D\\_i}$'\n",
    "plt.title(title)\n",
    "plt.xlabel('$K_{D\\_i}$(M)')\n",
    "plt.ylabel('Complex(M)')\n",
    "plt.xscale('log')\n",
    "plt.plot(picked['iter'],picked['AB'],label='$AB$',c='Blue')\n",
    "plt.plot(picked['iter'],picked['ABi'],label='$AB_i$',c='Red')\n",
    "plt.legend(loc=6)\n",
    "plt.savefig(image_dump+'ABeq_vs_Kdi_2_inh.png',dpi =600,bbox_inches='tight') "
   ]
  },
  {
   "cell_type": "code",
   "execution_count": null,
   "metadata": {},
   "outputs": [],
   "source": []
  },
  {
   "cell_type": "code",
   "execution_count": null,
   "metadata": {},
   "outputs": [],
   "source": []
  },
  {
   "cell_type": "code",
   "execution_count": null,
   "metadata": {},
   "outputs": [],
   "source": []
  }
 ],
 "metadata": {
  "kernelspec": {
   "display_name": "Python 3.9.12 ('MK_default_env')",
   "language": "python",
   "name": "python3"
  },
  "language_info": {
   "codemirror_mode": {
    "name": "ipython",
    "version": 3
   },
   "file_extension": ".py",
   "mimetype": "text/x-python",
   "name": "python",
   "nbconvert_exporter": "python",
   "pygments_lexer": "ipython3",
   "version": "3.9.12 (main, Apr  4 2022, 05:22:27) [MSC v.1916 64 bit (AMD64)]"
  },
  "orig_nbformat": 4,
  "vscode": {
   "interpreter": {
    "hash": "b1eccfc1ba364d111ae15767186742a5343f0437137c2ad126770b982f7d7e19"
   }
  }
 },
 "nbformat": 4,
 "nbformat_minor": 2
}
